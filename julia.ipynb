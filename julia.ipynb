{
 "cells": [
  {
   "cell_type": "markdown",
   "metadata": {},
   "source": [
    "2021-05-26\n",
    "\n",
    "# Julia Key Agreement in SageMath\n",
    "\n",
    "This worksheet accompanies the paper *Julia: Fast and Secure Key Agreement for IoT Devices* \n",
    "by Frans Lundberg and Juraj Feljan, 2021. SageMath 9.2 was used to create this worksheet. The latest version is hosted at [github.com/assaabloy-ppi/julia-in-sage/](https://github.com/assaabloy-ppi/julia-in-sage/).\n",
    "\n",
    "The example code uses the well-known Curve25519. Any other crypto group could have been chosen. This code should be seen as example code to illustrate the Julia Key Agreement (JKA) as it is described in the paper. Details, such as how to serialize a group element into bytes, is not of importance here. A full secure channel specification and implementation would need to consider many details that are out of scope here."
   ]
  },
  {
   "cell_type": "markdown",
   "metadata": {},
   "source": [
    "# Init\n",
    "\n",
    "Run the code blocks below to initialize the field (field), the elliptic curve (ec), the generator (G), and some functions."
   ]
  },
  {
   "cell_type": "code",
   "execution_count": 1,
   "metadata": {},
   "outputs": [
    {
     "data": {
      "text/html": [
       "<html><script type=\"math/tex; mode=display\">\\newcommand{\\Bold}[1]{\\mathbf{#1}}y^2 = x^{3} + 486662 x^{2} + x </script></html>"
      ],
      "text/latex": [
       "\\begin{math}\n",
       "\\newcommand{\\Bold}[1]{\\mathbf{#1}}y^2 = x^{3} + 486662 x^{2} + x \n",
       "\\end{math}"
      ],
      "text/plain": [
       "Elliptic Curve defined by y^2 = x^3 + 486662*x^2 + x over Finite Field of size 57896044618658097711785492504343953926634992332820282019728792003956564819949"
      ]
     },
     "metadata": {},
     "output_type": "display_data"
    }
   ],
   "source": [
    "field = GF(2^255-19)\n",
    "ec = EllipticCurve(field, [0,486662,0,1,0])\n",
    "G = ec([9, 14781619447589544791020593568409986887264606134616475288964881837755586237401])\n",
    "show(ec)"
   ]
  },
  {
   "cell_type": "code",
   "execution_count": 2,
   "metadata": {},
   "outputs": [],
   "source": [
    "# Generates and returns a secret key.\n",
    "def secret(): return 2^254 + 8*randint(1, 2^251-1)"
   ]
  },
  {
   "cell_type": "code",
   "execution_count": 3,
   "metadata": {},
   "outputs": [],
   "source": [
    "# Returns a random byte array of length 32 (256 bits).\n",
    "def rand(): \n",
    "    array = bytearray(32)\n",
    "    for i in range(len(array)):\n",
    "        array[i] = randint(0, 255)\n",
    "    return array"
   ]
  },
  {
   "cell_type": "code",
   "execution_count": 4,
   "metadata": {},
   "outputs": [],
   "source": [
    "import hashlib\n",
    "\n",
    "# Ordinary hash function, returns byte array\n",
    "def hash1(a):\n",
    "    hasher = hashlib.sha256()\n",
    "    hasher.update(a)\n",
    "    return hasher.digest();\n",
    "\n",
    "# Hashes and converts to 256-bit integer\n",
    "def hash2(a):\n",
    "    digest = hash1(a)\n",
    "    return int.from_bytes(digest, byteorder='big', signed=False)\n",
    "\n",
    "# Converts a string, Integer, or group element to a byte array.\n",
    "def to_bytes(A):\n",
    "    if isinstance(A, Integer):\n",
    "        return str(A).encode(\"US-ASCII\")\n",
    "    elif isinstance(A, str):\n",
    "        return A.encode(\"US-ASCII\")\n",
    "    else:\n",
    "        return str(A[0]).encode(\"US-ASCII\") + str(A[1]).encode(\"US_ASCII\") + str(A[2]).encode(\"US_ASCII\")"
   ]
  },
  {
   "cell_type": "markdown",
   "metadata": {},
   "source": [
    "# Notes\n",
    "\n",
    "The following sections illustrate a number of key agreement protocols. Many details are not included, some of which are essential for a real implementation of a full secure channel handshake.\n",
    "\n",
    "Note, the following:\n",
    "\n",
    "* Two parties, P1 and P2, communicate over a realible, but insecure communication channel.\n",
    "* The attacker, Mallory has full power to modify and resend messages. She has access\n",
    "  to all sessions ever executed and all sessions currently executing.\n",
    "* The communication can be assumed to be half-duplex. Only one of the parties send data \n",
    "  at a time.\n",
    "* P1 initiates the communication and P2 responds to the initial message from P1.\n",
    "* The computation of one or multiple keys for the symmetric\n",
    "  cryptography that follows in full secure channel protocol is not included.\n",
    "* To be concrete, we can assume that a shared symmetric key is computed\n",
    "  from a hash of all session data and the result of one or multiple scalar multiplications\n",
    "  that can be computed by both parties.\n",
    "* The goal of the handshake is to achieve one or more secrets that are shared between \n",
    "  P1 and P2, but are not available to Mallory. For more information on the security properties\n",
    "  of JKA, see the paper."
   ]
  },
  {
   "cell_type": "markdown",
   "metadata": {},
   "source": [
    "# Key agreement with one scalar multiplication\n",
    "\n",
    "Each party computes only one scalar multiplication. A shared secret (D) is attained, but forward secrecy and compromised-key impersonation is not support."
   ]
  },
  {
   "cell_type": "code",
   "execution_count": 5,
   "metadata": {},
   "outputs": [],
   "source": [
    "# ==== Static keys ====\n",
    "\n",
    "# P1:\n",
    "s1 = secret()\n",
    "S1 = s1*G\n",
    "\n",
    "# P2:\n",
    "s2 = secret()\n",
    "S2 = s2*G"
   ]
  },
  {
   "cell_type": "code",
   "execution_count": 6,
   "metadata": {},
   "outputs": [],
   "source": [
    "# ==== Pre-handshake ====\n",
    "\n",
    "# P1:\n",
    "c1 = rand()\n",
    "\n",
    "# P2:\n",
    "c2 = rand()"
   ]
  },
  {
   "cell_type": "code",
   "execution_count": 7,
   "metadata": {},
   "outputs": [],
   "source": [
    "# ==== Handshake ====\n",
    "\n",
    "# P1:\n",
    "# -> Send c1\n",
    "\n",
    "# P2:\n",
    "# <- Send c2\n",
    "\n",
    "# P1:\n",
    "D1 = s1*S2\n",
    "\n",
    "# P2:\n",
    "D2 = s2*S1"
   ]
  },
  {
   "cell_type": "code",
   "execution_count": 8,
   "metadata": {},
   "outputs": [
    {
     "data": {
      "text/plain": [
       "True"
      ]
     },
     "execution_count": 8,
     "metadata": {},
     "output_type": "execute_result"
    }
   ],
   "source": [
    "D1 == D2"
   ]
  },
  {
   "cell_type": "markdown",
   "metadata": {},
   "source": [
    "# Key agreement with three scalar multiplications\n",
    "\n",
    "This key agreement is conceptually equivalent to protocol \"XX\" of the Noise Protocol Framework \n",
    "[noiseprotocol.org](https://noiseprotocol.org/)."
   ]
  },
  {
   "cell_type": "code",
   "execution_count": 9,
   "metadata": {},
   "outputs": [],
   "source": [
    "# ==== Static keys ====\n",
    "\n",
    "# P1:\n",
    "s1 = secret()\n",
    "S1 = s1*G\n",
    "\n",
    "# P2:\n",
    "s2 = secret()\n",
    "S2 = s2*G"
   ]
  },
  {
   "cell_type": "code",
   "execution_count": 10,
   "metadata": {},
   "outputs": [],
   "source": [
    "# ==== Pre-handshake ====\n",
    "\n",
    "# P1:\n",
    "e1 = secret()\n",
    "E1 = e1*G\n",
    "\n",
    "# P2:\n",
    "e2 = secret()\n",
    "E2 = e2*G"
   ]
  },
  {
   "cell_type": "code",
   "execution_count": 11,
   "metadata": {},
   "outputs": [],
   "source": [
    "# P1:\n",
    "# -> Send E1\n",
    "\n",
    "# P2:\n",
    "D21 = E1*e2\n",
    "D22 = E1*s2\n",
    "# <- Send E2, S2\n",
    "\n",
    "# P1:\n",
    "D11 = e1*E2\n",
    "D12 = e1*S2\n",
    "D13 = s1*E2\n",
    "# -> Send S1, app1\n",
    "\n",
    "# P2:\n",
    "D23 = S1*e2"
   ]
  },
  {
   "cell_type": "code",
   "execution_count": 12,
   "metadata": {},
   "outputs": [
    {
     "data": {
      "text/plain": [
       "(True, True, True)"
      ]
     },
     "execution_count": 12,
     "metadata": {},
     "output_type": "execute_result"
    }
   ],
   "source": [
    "D11 == D21, D12 == D22, D13 == D23"
   ]
  },
  {
   "cell_type": "markdown",
   "metadata": {},
   "source": [
    "A common secret for encrypting application data can computed based on the session hash (hash of all data transferred) and the Dxx values. The application data is encrypted using all three scalar products (D11, D12, D13) while D11, D12 are used to encrypt S1 and S2."
   ]
  },
  {
   "cell_type": "markdown",
   "metadata": {},
   "source": [
    "# Julia Key Agreement\n",
    "\n",
    "Between P1 and P2. The baseline version. t is computed jointly by P1 and P2."
   ]
  },
  {
   "cell_type": "code",
   "execution_count": 13,
   "metadata": {},
   "outputs": [],
   "source": [
    "# ==== Static keys ====\n",
    "\n",
    "# P1:\n",
    "s1 = secret()\n",
    "S1 = s1*G\n",
    "\n",
    "# P2:\n",
    "s2 = secret()\n",
    "S2 = s2*G"
   ]
  },
  {
   "cell_type": "code",
   "execution_count": 14,
   "metadata": {},
   "outputs": [],
   "source": [
    "# ==== Pre-handshake ====\n",
    "\n",
    "# P1:\n",
    "e1 = secret()\n",
    "E1 = e1*G\n",
    "t1 = hash2(to_bytes(\"t1\") + to_bytes(E1))\n",
    "h1 = hash1(to_bytes(\"h1\") + to_bytes(E1))\n",
    "\n",
    "# P2:\n",
    "e2 = secret()\n",
    "E2 = e2*G\n",
    "t2 = hash2(to_bytes(\"t2\") + to_bytes(E2))"
   ]
  },
  {
   "cell_type": "code",
   "execution_count": 15,
   "metadata": {},
   "outputs": [],
   "source": [
    "# ==== Handshake ====\n",
    "\n",
    "# P1:\n",
    "# -> Send h1\n",
    "\n",
    "# P2:\n",
    "# <- Send E2\n",
    "\n",
    "# P1:\n",
    "t2 = hash2(to_bytes(\"t1\") + to_bytes(E2))\n",
    "t = t1+t2\n",
    "D1 = (t*s1+e1)*(t*S2+E2)\n",
    "# -> Send E1, app1\n",
    "\n",
    "# P2:\n",
    "# Verify h1 = hash1(to_bytes(\"h1\") + to_bytes(E1))\n",
    "t = t1+t2\n",
    "D2 = (t*S1+E1)*(t*s2+e2)"
   ]
  },
  {
   "cell_type": "code",
   "execution_count": 16,
   "metadata": {},
   "outputs": [
    {
     "data": {
      "text/plain": [
       "True"
      ]
     },
     "execution_count": 16,
     "metadata": {},
     "output_type": "execute_result"
    }
   ],
   "source": [
    "D1 == D2"
   ]
  },
  {
   "cell_type": "markdown",
   "metadata": {},
   "source": [
    "# Julia Key Agreement, one scalar multiplication\n",
    "\n",
    "t1 and t2 are computed independently by the parties. P1 can pre-compute t1, P2 can pre-compute t2."
   ]
  },
  {
   "cell_type": "code",
   "execution_count": 19,
   "metadata": {},
   "outputs": [],
   "source": [
    "# ==== Pre-handshake ====\n",
    "\n",
    "# P1:\n",
    "e1 = secret()\n",
    "E1 = e1*G\n",
    "t1 = hash2(to_bytes(\"t1\") + to_bytes(E1))\n",
    "h1 = hash1(to_bytes(\"h1\") + to_bytes(E1))\n",
    "\n",
    "# P2:\n",
    "e2 = secret()\n",
    "E2 = e2*G\n",
    "t2 = hash2(to_bytes(\"t2\") + to_bytes(E2))"
   ]
  },
  {
   "cell_type": "code",
   "execution_count": 20,
   "metadata": {},
   "outputs": [],
   "source": [
    "# ==== Handshake ====\n",
    "\n",
    "# P1:\n",
    "# -> Send h1\n",
    "\n",
    "# P2:\n",
    "# <- Send E2\n",
    "\n",
    "# P1:\n",
    "t2 = hash2(to_bytes(\"t1\") + to_bytes(E2))\n",
    "D1 = (t2*s1+e1)*(t1*S2+E2)\n",
    "# -> Send E1, app1\n",
    "\n",
    "# P2:\n",
    "# Verify h1 = hash(to_bytes(\"h1\") + to_bytes(E1))\n",
    "t = t1+t2\n",
    "D2 = (t2*S1+E1)*(t1*s2+e2)"
   ]
  },
  {
   "cell_type": "code",
   "execution_count": 21,
   "metadata": {},
   "outputs": [
    {
     "data": {
      "text/plain": [
       "True"
      ]
     },
     "execution_count": 21,
     "metadata": {},
     "output_type": "execute_result"
    }
   ],
   "source": [
    "D1 == D2"
   ]
  }
 ],
 "metadata": {
  "kernelspec": {
   "display_name": "SageMath 9.2",
   "language": "sage",
   "name": "sagemath"
  },
  "language_info": {
   "codemirror_mode": {
    "name": "ipython",
    "version": 3
   },
   "file_extension": ".py",
   "mimetype": "text/x-python",
   "name": "python",
   "nbconvert_exporter": "python",
   "pygments_lexer": "ipython3",
   "version": "3.7.7"
  }
 },
 "nbformat": 4,
 "nbformat_minor": 4
}
